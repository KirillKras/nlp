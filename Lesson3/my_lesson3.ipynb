{
 "cells": [
  {
   "cell_type": "code",
   "execution_count": 2,
   "metadata": {
    "collapsed": true
   },
   "outputs": [],
   "source": [
    "import pandas as pd"
   ]
  },
  {
   "cell_type": "code",
   "execution_count": 49,
   "outputs": [],
   "source": [
    "import ssl\n",
    "ssl._create_default_https_context = ssl._create_unverified_context"
   ],
   "metadata": {
    "collapsed": false,
    "pycharm": {
     "name": "#%%\n"
    }
   }
  },
  {
   "cell_type": "code",
   "execution_count": 3,
   "outputs": [
    {
     "data": {
      "text/plain": "    label                                              tweet  \\\nid                                                             \n1     0.0   @user when a father is dysfunctional and is s...   \n2     0.0  @user @user thanks for #lyft credit i can't us...   \n3     0.0                                bihday your majesty   \n4     0.0  #model   i love u take with u all the time in ...   \n5     0.0             factsguide: society now    #motivation   \n\n                                          clean_tweet  \\\nid                                                      \n1   when father is dysfunctional and is so selfish...   \n2   thanks for lyft credit can not use cause they ...   \n3                                 bihday your majesty   \n4             model love take with all the time in ur   \n5                   factsguide society now motivation   \n\n                                          tweet_token  \\\nid                                                      \n1   [when, father, is, dysfunctional, and, is, so,...   \n2   [thanks, for, lyft, credit, can, not, use, cau...   \n3                             [bihday, your, majesty]   \n4   [model, love, take, with, all, the, time, in, ur]   \n5              [factsguide, society, now, motivation]   \n\n                                 tweet_token_filtered  \\\nid                                                      \n1   [father, dysfunctional, selfish, drags, kids, ...   \n2   [thanks, lyft, credit, use, cause, offer, whee...   \n3                                   [bihday, majesty]   \n4                       [model, love, take, time, ur]   \n5                   [factsguide, society, motivation]   \n\n                                        tweet_stemmed  \\\nid                                                      \n1   [father, dysfunct, selfish, drag, kid, dysfunc...   \n2   [thank, lyft, credit, use, caus, offer, wheelc...   \n3                                   [bihday, majesti]   \n4                       [model, love, take, time, ur]   \n5                         [factsguid, societi, motiv]   \n\n                                      tweet_lemmatize  \nid                                                     \n1   [father, dysfunctional, selfish, drag, kid, dy...  \n2   [thanks, lyft, credit, use, cause, offer, whee...  \n3                                   [bihday, majesty]  \n4                       [model, love, take, time, ur]  \n5                   [factsguide, society, motivation]  ",
      "text/html": "<div>\n<style scoped>\n    .dataframe tbody tr th:only-of-type {\n        vertical-align: middle;\n    }\n\n    .dataframe tbody tr th {\n        vertical-align: top;\n    }\n\n    .dataframe thead th {\n        text-align: right;\n    }\n</style>\n<table border=\"1\" class=\"dataframe\">\n  <thead>\n    <tr style=\"text-align: right;\">\n      <th></th>\n      <th>label</th>\n      <th>tweet</th>\n      <th>clean_tweet</th>\n      <th>tweet_token</th>\n      <th>tweet_token_filtered</th>\n      <th>tweet_stemmed</th>\n      <th>tweet_lemmatize</th>\n    </tr>\n    <tr>\n      <th>id</th>\n      <th></th>\n      <th></th>\n      <th></th>\n      <th></th>\n      <th></th>\n      <th></th>\n      <th></th>\n    </tr>\n  </thead>\n  <tbody>\n    <tr>\n      <th>1</th>\n      <td>0.0</td>\n      <td>@user when a father is dysfunctional and is s...</td>\n      <td>when father is dysfunctional and is so selfish...</td>\n      <td>[when, father, is, dysfunctional, and, is, so,...</td>\n      <td>[father, dysfunctional, selfish, drags, kids, ...</td>\n      <td>[father, dysfunct, selfish, drag, kid, dysfunc...</td>\n      <td>[father, dysfunctional, selfish, drag, kid, dy...</td>\n    </tr>\n    <tr>\n      <th>2</th>\n      <td>0.0</td>\n      <td>@user @user thanks for #lyft credit i can't us...</td>\n      <td>thanks for lyft credit can not use cause they ...</td>\n      <td>[thanks, for, lyft, credit, can, not, use, cau...</td>\n      <td>[thanks, lyft, credit, use, cause, offer, whee...</td>\n      <td>[thank, lyft, credit, use, caus, offer, wheelc...</td>\n      <td>[thanks, lyft, credit, use, cause, offer, whee...</td>\n    </tr>\n    <tr>\n      <th>3</th>\n      <td>0.0</td>\n      <td>bihday your majesty</td>\n      <td>bihday your majesty</td>\n      <td>[bihday, your, majesty]</td>\n      <td>[bihday, majesty]</td>\n      <td>[bihday, majesti]</td>\n      <td>[bihday, majesty]</td>\n    </tr>\n    <tr>\n      <th>4</th>\n      <td>0.0</td>\n      <td>#model   i love u take with u all the time in ...</td>\n      <td>model love take with all the time in ur</td>\n      <td>[model, love, take, with, all, the, time, in, ur]</td>\n      <td>[model, love, take, time, ur]</td>\n      <td>[model, love, take, time, ur]</td>\n      <td>[model, love, take, time, ur]</td>\n    </tr>\n    <tr>\n      <th>5</th>\n      <td>0.0</td>\n      <td>factsguide: society now    #motivation</td>\n      <td>factsguide society now motivation</td>\n      <td>[factsguide, society, now, motivation]</td>\n      <td>[factsguide, society, motivation]</td>\n      <td>[factsguid, societi, motiv]</td>\n      <td>[factsguide, society, motivation]</td>\n    </tr>\n  </tbody>\n</table>\n</div>"
     },
     "execution_count": 3,
     "metadata": {},
     "output_type": "execute_result"
    }
   ],
   "source": [
    "tweets = pd.read_pickle('../tweets.df')\n",
    "tweets.head()"
   ],
   "metadata": {
    "collapsed": false,
    "pycharm": {
     "name": "#%%\n"
    }
   }
  },
  {
   "cell_type": "markdown",
   "source": [
    "#### Задание 1"
   ],
   "metadata": {
    "collapsed": false,
    "pycharm": {
     "name": "#%% md\n"
    }
   }
  },
  {
   "cell_type": "code",
   "execution_count": 34,
   "outputs": [],
   "source": [
    "import spacy\n",
    "from spacy import displacy\n",
    "import en_core_web_md\n",
    "from collections import defaultdict"
   ],
   "metadata": {
    "collapsed": false,
    "pycharm": {
     "name": "#%%\n"
    }
   }
  },
  {
   "cell_type": "code",
   "execution_count": 6,
   "outputs": [],
   "source": [
    "nlp = en_core_web_md.load()"
   ],
   "metadata": {
    "collapsed": false,
    "pycharm": {
     "name": "#%%\n"
    }
   }
  },
  {
   "cell_type": "code",
   "execution_count": 36,
   "outputs": [],
   "source": [
    "ner_dict = defaultdict(int)\n",
    "\n",
    "for tweet in tweets['clean_tweet']:\n",
    "    doc = nlp(tweet)\n",
    "    for ent in doc.ents:\n",
    "        ner_dict[ent.label_] += 1"
   ],
   "metadata": {
    "collapsed": false,
    "pycharm": {
     "name": "#%%\n"
    }
   }
  },
  {
   "cell_type": "code",
   "execution_count": 40,
   "outputs": [
    {
     "data": {
      "text/plain": "[('PERSON', 11639),\n ('DATE', 10851),\n ('ORG', 8170),\n ('GPE', 5393),\n ('TIME', 2295),\n ('NORP', 1704),\n ('CARDINAL', 1079),\n ('ORDINAL', 583),\n ('FAC', 364),\n ('PRODUCT', 328),\n ('LOC', 282),\n ('EVENT', 218),\n ('WORK_OF_ART', 105),\n ('QUANTITY', 56),\n ('LANGUAGE', 39),\n ('MONEY', 19),\n ('LAW', 11),\n ('PERCENT', 4)]"
     },
     "execution_count": 40,
     "metadata": {},
     "output_type": "execute_result"
    }
   ],
   "source": [
    "[(k,v) for k, v in sorted(ner_dict.items(), key=lambda x: x[1], reverse=True)]"
   ],
   "metadata": {
    "collapsed": false,
    "pycharm": {
     "name": "#%%\n"
    }
   }
  },
  {
   "cell_type": "code",
   "execution_count": 41,
   "outputs": [],
   "source": [
    "pers = defaultdict(int)\n",
    "org = defaultdict(int)\n",
    "\n",
    "for tweet in tweets['clean_tweet']:\n",
    "    doc = nlp(tweet)\n",
    "    for ent in doc.ents:\n",
    "        if ent.label_ == 'PERSON':\n",
    "            pers[ent.text] += 1\n",
    "        if ent.label_ == 'ORG':\n",
    "            org[ent.text] += 1"
   ],
   "metadata": {
    "collapsed": false,
    "pycharm": {
     "name": "#%%\n"
    }
   }
  },
  {
   "cell_type": "code",
   "execution_count": 43,
   "outputs": [
    {
     "data": {
      "text/plain": "[('bing bong bing bong', 107),\n ('suppo', 70),\n ('obama', 66),\n ('hillary', 55),\n ('sta', 46),\n ('feminismiscancer feminismisterrorism feminismmuktbharat', 40),\n ('melancholy melancholymusic', 40),\n ('bjp', 36),\n ('christina grimmie', 34),\n ('hu', 31),\n ('jo cox', 27),\n ('tgif ff', 26),\n ('gamedev indiedev indiegamedev', 25),\n ('lebron', 25),\n ('sea shepherd suppoers', 25)]"
     },
     "execution_count": 43,
     "metadata": {},
     "output_type": "execute_result"
    }
   ],
   "source": [
    "[(k,v) for k, v in sorted(pers.items(), key=lambda x: x[1], reverse=True)][:15]"
   ],
   "metadata": {
    "collapsed": false,
    "pycharm": {
     "name": "#%%\n"
    }
   }
  },
  {
   "cell_type": "code",
   "execution_count": 44,
   "outputs": [
    {
     "data": {
      "text/plain": "[('sjw', 102),\n ('allahsoil', 84),\n ('gop', 76),\n ('nba', 59),\n ('islam', 53),\n ('trump', 49),\n ('ht', 43),\n ('facebook', 40),\n ('cavs', 39),\n ('bihday', 38),\n ('social analytics', 34),\n ('cnn', 30),\n ('obama', 30),\n ('ios', 30),\n ('wso', 28)]"
     },
     "execution_count": 44,
     "metadata": {},
     "output_type": "execute_result"
    }
   ],
   "source": [
    "[(k,v) for k, v in sorted(org.items(), key=lambda x: x[1], reverse=True)][:15]"
   ],
   "metadata": {
    "collapsed": false,
    "pycharm": {
     "name": "#%%\n"
    }
   }
  },
  {
   "cell_type": "markdown",
   "source": [
    "#### Задание 2"
   ],
   "metadata": {
    "collapsed": false,
    "pycharm": {
     "name": "#%% md\n"
    }
   }
  },
  {
   "cell_type": "code",
   "execution_count": 54,
   "outputs": [
    {
     "name": "stderr",
     "output_type": "stream",
     "text": [
      "[nltk_data] Downloading package averaged_perceptron_tagger to\n",
      "[nltk_data]     /Users/kosmosivanov/nltk_data...\n",
      "[nltk_data]   Package averaged_perceptron_tagger is already up-to-\n",
      "[nltk_data]       date!\n",
      "[nltk_data] Downloading package maxent_ne_chunker to\n",
      "[nltk_data]     /Users/kosmosivanov/nltk_data...\n",
      "[nltk_data]   Package maxent_ne_chunker is already up-to-date!\n",
      "[nltk_data] Downloading package words to\n",
      "[nltk_data]     /Users/kosmosivanov/nltk_data...\n",
      "[nltk_data]   Unzipping corpora/words.zip.\n"
     ]
    },
    {
     "data": {
      "text/plain": "True"
     },
     "execution_count": 54,
     "metadata": {},
     "output_type": "execute_result"
    }
   ],
   "source": [
    "import nltk\n",
    "nltk.download('averaged_perceptron_tagger')\n",
    "nltk.download('maxent_ne_chunker')\n",
    "nltk.download('words')"
   ],
   "metadata": {
    "collapsed": false,
    "pycharm": {
     "name": "#%%\n"
    }
   }
  },
  {
   "cell_type": "code",
   "execution_count": 65,
   "outputs": [],
   "source": [
    "for tweet in tweets['clean_tweet']:\n",
    "    res = {(' '.join(c[0] for c in chunk), chunk.label() ) for chunk in\n",
    "           nltk.ne_chunk(nltk.pos_tag(nltk.word_tokenize(tweet))) if hasattr(chunk, 'label') }\n",
    "    if res:\n",
    "        print(res)"
   ],
   "metadata": {
    "collapsed": false,
    "pycharm": {
     "name": "#%%\n"
    }
   }
  },
  {
   "cell_type": "code",
   "execution_count": 61,
   "outputs": [
    {
     "data": {
      "text/plain": "\"Tree('S', [('ferrari', 'NN'), ('will', 'MD'), ('do', 'VB'), ('it', 'PRP'), ('for', 'IN'), ('the', 'DT'), ('sake', 'NN'), ('of', 'IN'), ('the', 'DT'), ('championship', 'NN'), ('this', 'DT'), ('gp', 'NN'), ('is', 'VBZ'), ('clearly', 'RB'), ('turning', 'VBG'), ('point', 'NN'), ('rb', 'NN'), ('ferrari', 'NN'), ('mercs', 'NN')])\""
     },
     "execution_count": 61,
     "metadata": {},
     "output_type": "execute_result"
    }
   ],
   "source": [],
   "metadata": {
    "collapsed": false,
    "pycharm": {
     "name": "#%%\n"
    }
   }
  },
  {
   "cell_type": "code",
   "execution_count": null,
   "outputs": [],
   "source": [],
   "metadata": {
    "collapsed": false,
    "pycharm": {
     "name": "#%%\n"
    }
   }
  }
 ],
 "metadata": {
  "kernelspec": {
   "display_name": "Python 3",
   "language": "python",
   "name": "python3"
  },
  "language_info": {
   "codemirror_mode": {
    "name": "ipython",
    "version": 2
   },
   "file_extension": ".py",
   "mimetype": "text/x-python",
   "name": "python",
   "nbconvert_exporter": "python",
   "pygments_lexer": "ipython2",
   "version": "2.7.6"
  }
 },
 "nbformat": 4,
 "nbformat_minor": 0
}