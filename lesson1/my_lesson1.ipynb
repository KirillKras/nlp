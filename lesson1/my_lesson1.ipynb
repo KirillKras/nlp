{
 "cells": [
  {
   "cell_type": "code",
   "execution_count": 1,
   "metadata": {
    "collapsed": true
   },
   "outputs": [],
   "source": [
    "import pandas as pd\n",
    "import re\n",
    "import html\n",
    "import nltk"
   ]
  },
  {
   "cell_type": "markdown",
   "source": [
    "#### Импорт данных из файлов и объединение в один DataFrame"
   ],
   "metadata": {
    "collapsed": false,
    "pycharm": {
     "name": "#%% md\n"
    }
   }
  },
  {
   "cell_type": "code",
   "execution_count": 2,
   "outputs": [
    {
     "data": {
      "text/plain": "    label                                              tweet\nid                                                          \n1     0.0   @user when a father is dysfunctional and is s...\n2     0.0  @user @user thanks for #lyft credit i can't us...\n3     0.0                                bihday your majesty\n4     0.0  #model   i love u take with u all the time in ...\n5     0.0             factsguide: society now    #motivation",
      "text/html": "<div>\n<style scoped>\n    .dataframe tbody tr th:only-of-type {\n        vertical-align: middle;\n    }\n\n    .dataframe tbody tr th {\n        vertical-align: top;\n    }\n\n    .dataframe thead th {\n        text-align: right;\n    }\n</style>\n<table border=\"1\" class=\"dataframe\">\n  <thead>\n    <tr style=\"text-align: right;\">\n      <th></th>\n      <th>label</th>\n      <th>tweet</th>\n    </tr>\n    <tr>\n      <th>id</th>\n      <th></th>\n      <th></th>\n    </tr>\n  </thead>\n  <tbody>\n    <tr>\n      <th>1</th>\n      <td>0.0</td>\n      <td>@user when a father is dysfunctional and is s...</td>\n    </tr>\n    <tr>\n      <th>2</th>\n      <td>0.0</td>\n      <td>@user @user thanks for #lyft credit i can't us...</td>\n    </tr>\n    <tr>\n      <th>3</th>\n      <td>0.0</td>\n      <td>bihday your majesty</td>\n    </tr>\n    <tr>\n      <th>4</th>\n      <td>0.0</td>\n      <td>#model   i love u take with u all the time in ...</td>\n    </tr>\n    <tr>\n      <th>5</th>\n      <td>0.0</td>\n      <td>factsguide: society now    #motivation</td>\n    </tr>\n  </tbody>\n</table>\n</div>"
     },
     "execution_count": 2,
     "metadata": {},
     "output_type": "execute_result"
    }
   ],
   "source": [
    "test_tweets = pd.read_csv('test_tweets.csv', index_col=['id'])\n",
    "train_tweets = pd.read_csv('train_tweets.csv', index_col=['id'])\n",
    "df = pd.concat([train_tweets, test_tweets], sort=True)\n",
    "df.head()"
   ],
   "metadata": {
    "collapsed": false,
    "pycharm": {
     "name": "#%%\n"
    }
   }
  },
  {
   "cell_type": "markdown",
   "source": [
    "#### Задание 1.\n",
    "Заменим html-сущности (к примеру: < > &).\n",
    "Сделаем это с помощью HTMLParser.unescape(). Всю предобработку делаем в новом столбце 'clean_tweet'"
   ],
   "metadata": {
    "collapsed": false,
    "pycharm": {
     "name": "#%% md\n"
    }
   }
  },
  {
   "cell_type": "code",
   "execution_count": 3,
   "outputs": [
    {
     "data": {
      "text/plain": "    label                                              tweet  \\\nid                                                             \n1     0.0   @user when a father is dysfunctional and is s...   \n2     0.0  @user @user thanks for #lyft credit i can't us...   \n3     0.0                                bihday your majesty   \n4     0.0  #model   i love u take with u all the time in ...   \n5     0.0             factsguide: society now    #motivation   \n\n                                          clean_tweet  \nid                                                     \n1    @user when a father is dysfunctional and is s...  \n2   @user @user thanks for #lyft credit i can't us...  \n3                                 bihday your majesty  \n4   #model   i love u take with u all the time in ...  \n5              factsguide: society now    #motivation  ",
      "text/html": "<div>\n<style scoped>\n    .dataframe tbody tr th:only-of-type {\n        vertical-align: middle;\n    }\n\n    .dataframe tbody tr th {\n        vertical-align: top;\n    }\n\n    .dataframe thead th {\n        text-align: right;\n    }\n</style>\n<table border=\"1\" class=\"dataframe\">\n  <thead>\n    <tr style=\"text-align: right;\">\n      <th></th>\n      <th>label</th>\n      <th>tweet</th>\n      <th>clean_tweet</th>\n    </tr>\n    <tr>\n      <th>id</th>\n      <th></th>\n      <th></th>\n      <th></th>\n    </tr>\n  </thead>\n  <tbody>\n    <tr>\n      <th>1</th>\n      <td>0.0</td>\n      <td>@user when a father is dysfunctional and is s...</td>\n      <td>@user when a father is dysfunctional and is s...</td>\n    </tr>\n    <tr>\n      <th>2</th>\n      <td>0.0</td>\n      <td>@user @user thanks for #lyft credit i can't us...</td>\n      <td>@user @user thanks for #lyft credit i can't us...</td>\n    </tr>\n    <tr>\n      <th>3</th>\n      <td>0.0</td>\n      <td>bihday your majesty</td>\n      <td>bihday your majesty</td>\n    </tr>\n    <tr>\n      <th>4</th>\n      <td>0.0</td>\n      <td>#model   i love u take with u all the time in ...</td>\n      <td>#model   i love u take with u all the time in ...</td>\n    </tr>\n    <tr>\n      <th>5</th>\n      <td>0.0</td>\n      <td>factsguide: society now    #motivation</td>\n      <td>factsguide: society now    #motivation</td>\n    </tr>\n  </tbody>\n</table>\n</div>"
     },
     "execution_count": 3,
     "metadata": {},
     "output_type": "execute_result"
    }
   ],
   "source": [
    "df['clean_tweet'] = df['tweet'].apply(html.unescape)\n",
    "df.head()"
   ],
   "metadata": {
    "collapsed": false,
    "pycharm": {
     "name": "#%%\n"
    }
   }
  },
  {
   "cell_type": "markdown",
   "source": [
    "#### Задание 2"
   ],
   "metadata": {
    "collapsed": false,
    "pycharm": {
     "name": "#%% md\n"
    }
   }
  },
  {
   "cell_type": "code",
   "execution_count": 4,
   "outputs": [
    {
     "data": {
      "text/plain": "    label                                              tweet  \\\nid                                                             \n1     0.0   @user when a father is dysfunctional and is s...   \n2     0.0  @user @user thanks for #lyft credit i can't us...   \n3     0.0                                bihday your majesty   \n4     0.0  #model   i love u take with u all the time in ...   \n5     0.0             factsguide: society now    #motivation   \n\n                                          clean_tweet  \nid                                                     \n1     when a father is dysfunctional and is so sel...  \n2     thanks for #lyft credit i can't use cause th...  \n3                                 bihday your majesty  \n4   #model   i love u take with u all the time in ...  \n5              factsguide: society now    #motivation  ",
      "text/html": "<div>\n<style scoped>\n    .dataframe tbody tr th:only-of-type {\n        vertical-align: middle;\n    }\n\n    .dataframe tbody tr th {\n        vertical-align: top;\n    }\n\n    .dataframe thead th {\n        text-align: right;\n    }\n</style>\n<table border=\"1\" class=\"dataframe\">\n  <thead>\n    <tr style=\"text-align: right;\">\n      <th></th>\n      <th>label</th>\n      <th>tweet</th>\n      <th>clean_tweet</th>\n    </tr>\n    <tr>\n      <th>id</th>\n      <th></th>\n      <th></th>\n      <th></th>\n    </tr>\n  </thead>\n  <tbody>\n    <tr>\n      <th>1</th>\n      <td>0.0</td>\n      <td>@user when a father is dysfunctional and is s...</td>\n      <td>when a father is dysfunctional and is so sel...</td>\n    </tr>\n    <tr>\n      <th>2</th>\n      <td>0.0</td>\n      <td>@user @user thanks for #lyft credit i can't us...</td>\n      <td>thanks for #lyft credit i can't use cause th...</td>\n    </tr>\n    <tr>\n      <th>3</th>\n      <td>0.0</td>\n      <td>bihday your majesty</td>\n      <td>bihday your majesty</td>\n    </tr>\n    <tr>\n      <th>4</th>\n      <td>0.0</td>\n      <td>#model   i love u take with u all the time in ...</td>\n      <td>#model   i love u take with u all the time in ...</td>\n    </tr>\n    <tr>\n      <th>5</th>\n      <td>0.0</td>\n      <td>factsguide: society now    #motivation</td>\n      <td>factsguide: society now    #motivation</td>\n    </tr>\n  </tbody>\n</table>\n</div>"
     },
     "execution_count": 4,
     "metadata": {},
     "output_type": "execute_result"
    }
   ],
   "source": [
    "df['clean_tweet'].replace(r'@\\w*', '', regex=True, inplace=True)\n",
    "df.head()"
   ],
   "metadata": {
    "collapsed": false,
    "pycharm": {
     "name": "#%%\n"
    }
   }
  },
  {
   "cell_type": "markdown",
   "source": [
    "#### Задание 3\n"
   ],
   "metadata": {
    "collapsed": false,
    "pycharm": {
     "name": "#%% md\n"
    }
   }
  },
  {
   "cell_type": "code",
   "execution_count": 5,
   "outputs": [
    {
     "data": {
      "text/plain": "    label                                              tweet  \\\nid                                                             \n1     0.0   @user when a father is dysfunctional and is s...   \n2     0.0  @user @user thanks for #lyft credit i can't us...   \n3     0.0                                bihday your majesty   \n4     0.0  #model   i love u take with u all the time in ...   \n5     0.0             factsguide: society now    #motivation   \n\n                                          clean_tweet  \nid                                                     \n1     when a father is dysfunctional and is so sel...  \n2     thanks for #lyft credit i can't use cause th...  \n3                                 bihday your majesty  \n4   #model   i love u take with u all the time in ...  \n5              factsguide: society now    #motivation  ",
      "text/html": "<div>\n<style scoped>\n    .dataframe tbody tr th:only-of-type {\n        vertical-align: middle;\n    }\n\n    .dataframe tbody tr th {\n        vertical-align: top;\n    }\n\n    .dataframe thead th {\n        text-align: right;\n    }\n</style>\n<table border=\"1\" class=\"dataframe\">\n  <thead>\n    <tr style=\"text-align: right;\">\n      <th></th>\n      <th>label</th>\n      <th>tweet</th>\n      <th>clean_tweet</th>\n    </tr>\n    <tr>\n      <th>id</th>\n      <th></th>\n      <th></th>\n      <th></th>\n    </tr>\n  </thead>\n  <tbody>\n    <tr>\n      <th>1</th>\n      <td>0.0</td>\n      <td>@user when a father is dysfunctional and is s...</td>\n      <td>when a father is dysfunctional and is so sel...</td>\n    </tr>\n    <tr>\n      <th>2</th>\n      <td>0.0</td>\n      <td>@user @user thanks for #lyft credit i can't us...</td>\n      <td>thanks for #lyft credit i can't use cause th...</td>\n    </tr>\n    <tr>\n      <th>3</th>\n      <td>0.0</td>\n      <td>bihday your majesty</td>\n      <td>bihday your majesty</td>\n    </tr>\n    <tr>\n      <th>4</th>\n      <td>0.0</td>\n      <td>#model   i love u take with u all the time in ...</td>\n      <td>#model   i love u take with u all the time in ...</td>\n    </tr>\n    <tr>\n      <th>5</th>\n      <td>0.0</td>\n      <td>factsguide: society now    #motivation</td>\n      <td>factsguide: society now    #motivation</td>\n    </tr>\n  </tbody>\n</table>\n</div>"
     },
     "execution_count": 5,
     "metadata": {},
     "output_type": "execute_result"
    }
   ],
   "source": [
    "df['clean_tweet'].map(lambda x: x.lower())\n",
    "df.head()"
   ],
   "metadata": {
    "collapsed": false,
    "pycharm": {
     "name": "#%%\n"
    }
   }
  },
  {
   "cell_type": "markdown",
   "source": [
    "#### Задание 4-6"
   ],
   "metadata": {
    "collapsed": false,
    "pycharm": {
     "name": "#%% md\n"
    }
   }
  },
  {
   "cell_type": "code",
   "execution_count": 6,
   "outputs": [],
   "source": [
    "apostrophe_dict = {\n",
    "    \"can't\": 'can not',\n",
    "    \"ain't\": 'am not',\n",
    "    \"don't\": 'do not'\n",
    "}\n",
    "\n",
    "emoticon_list = {\n",
    "    ':\\)': ' ',\n",
    "    ':\\(': ' ',\n",
    "    ';\\)': ' '\n",
    "}\n"
   ],
   "metadata": {
    "collapsed": false,
    "pycharm": {
     "name": "#%%\n"
    }
   }
  },
  {
   "cell_type": "code",
   "execution_count": 7,
   "outputs": [
    {
     "data": {
      "text/plain": "    label                                              tweet  \\\nid                                                             \n1     0.0   @user when a father is dysfunctional and is s...   \n2     0.0  @user @user thanks for #lyft credit i can't us...   \n3     0.0                                bihday your majesty   \n4     0.0  #model   i love u take with u all the time in ...   \n5     0.0             factsguide: society now    #motivation   \n\n                                          clean_tweet  \nid                                                     \n1     when a father is dysfunctional and is so sel...  \n2     thanks for #lyft credit i can not use cause ...  \n3                                 bihday your majesty  \n4   #model   i love u take with u all the time in ...  \n5              factsguide: society now    #motivation  ",
      "text/html": "<div>\n<style scoped>\n    .dataframe tbody tr th:only-of-type {\n        vertical-align: middle;\n    }\n\n    .dataframe tbody tr th {\n        vertical-align: top;\n    }\n\n    .dataframe thead th {\n        text-align: right;\n    }\n</style>\n<table border=\"1\" class=\"dataframe\">\n  <thead>\n    <tr style=\"text-align: right;\">\n      <th></th>\n      <th>label</th>\n      <th>tweet</th>\n      <th>clean_tweet</th>\n    </tr>\n    <tr>\n      <th>id</th>\n      <th></th>\n      <th></th>\n      <th></th>\n    </tr>\n  </thead>\n  <tbody>\n    <tr>\n      <th>1</th>\n      <td>0.0</td>\n      <td>@user when a father is dysfunctional and is s...</td>\n      <td>when a father is dysfunctional and is so sel...</td>\n    </tr>\n    <tr>\n      <th>2</th>\n      <td>0.0</td>\n      <td>@user @user thanks for #lyft credit i can't us...</td>\n      <td>thanks for #lyft credit i can not use cause ...</td>\n    </tr>\n    <tr>\n      <th>3</th>\n      <td>0.0</td>\n      <td>bihday your majesty</td>\n      <td>bihday your majesty</td>\n    </tr>\n    <tr>\n      <th>4</th>\n      <td>0.0</td>\n      <td>#model   i love u take with u all the time in ...</td>\n      <td>#model   i love u take with u all the time in ...</td>\n    </tr>\n    <tr>\n      <th>5</th>\n      <td>0.0</td>\n      <td>factsguide: society now    #motivation</td>\n      <td>factsguide: society now    #motivation</td>\n    </tr>\n  </tbody>\n</table>\n</div>"
     },
     "execution_count": 7,
     "metadata": {},
     "output_type": "execute_result"
    }
   ],
   "source": [
    "df['clean_tweet'] = df['clean_tweet'].replace(apostrophe_dict, regex=True)\n",
    "df.head()"
   ],
   "metadata": {
    "collapsed": false,
    "pycharm": {
     "name": "#%%\n"
    }
   }
  },
  {
   "cell_type": "code",
   "execution_count": 8,
   "outputs": [
    {
     "data": {
      "text/plain": "    label                                              tweet  \\\nid                                                             \n1     0.0   @user when a father is dysfunctional and is s...   \n2     0.0  @user @user thanks for #lyft credit i can't us...   \n3     0.0                                bihday your majesty   \n4     0.0  #model   i love u take with u all the time in ...   \n5     0.0             factsguide: society now    #motivation   \n\n                                          clean_tweet  \nid                                                     \n1     when a father is dysfunctional and is so sel...  \n2     thanks for #lyft credit i can not use cause ...  \n3                                 bihday your majesty  \n4   #model   i love u take with u all the time in ...  \n5              factsguide: society now    #motivation  ",
      "text/html": "<div>\n<style scoped>\n    .dataframe tbody tr th:only-of-type {\n        vertical-align: middle;\n    }\n\n    .dataframe tbody tr th {\n        vertical-align: top;\n    }\n\n    .dataframe thead th {\n        text-align: right;\n    }\n</style>\n<table border=\"1\" class=\"dataframe\">\n  <thead>\n    <tr style=\"text-align: right;\">\n      <th></th>\n      <th>label</th>\n      <th>tweet</th>\n      <th>clean_tweet</th>\n    </tr>\n    <tr>\n      <th>id</th>\n      <th></th>\n      <th></th>\n      <th></th>\n    </tr>\n  </thead>\n  <tbody>\n    <tr>\n      <th>1</th>\n      <td>0.0</td>\n      <td>@user when a father is dysfunctional and is s...</td>\n      <td>when a father is dysfunctional and is so sel...</td>\n    </tr>\n    <tr>\n      <th>2</th>\n      <td>0.0</td>\n      <td>@user @user thanks for #lyft credit i can't us...</td>\n      <td>thanks for #lyft credit i can not use cause ...</td>\n    </tr>\n    <tr>\n      <th>3</th>\n      <td>0.0</td>\n      <td>bihday your majesty</td>\n      <td>bihday your majesty</td>\n    </tr>\n    <tr>\n      <th>4</th>\n      <td>0.0</td>\n      <td>#model   i love u take with u all the time in ...</td>\n      <td>#model   i love u take with u all the time in ...</td>\n    </tr>\n    <tr>\n      <th>5</th>\n      <td>0.0</td>\n      <td>factsguide: society now    #motivation</td>\n      <td>factsguide: society now    #motivation</td>\n    </tr>\n  </tbody>\n</table>\n</div>"
     },
     "execution_count": 8,
     "metadata": {},
     "output_type": "execute_result"
    }
   ],
   "source": [
    "df['clean_tweet'] = df['clean_tweet'].replace(emoticon_list, regex=True)\n",
    "df.head()"
   ],
   "metadata": {
    "collapsed": false,
    "pycharm": {
     "name": "#%%\n"
    }
   }
  },
  {
   "cell_type": "markdown",
   "source": [
    "#### Задание 7"
   ],
   "metadata": {
    "collapsed": false,
    "pycharm": {
     "name": "#%% md\n"
    }
   }
  },
  {
   "cell_type": "code",
   "execution_count": 9,
   "outputs": [
    {
     "data": {
      "text/plain": "    label                                              tweet  \\\nid                                                             \n1     0.0   @user when a father is dysfunctional and is s...   \n2     0.0  @user @user thanks for #lyft credit i can't us...   \n3     0.0                                bihday your majesty   \n4     0.0  #model   i love u take with u all the time in ...   \n5     0.0             factsguide: society now    #motivation   \n\n                                          clean_tweet  \nid                                                     \n1     when a father is dysfunctional and is so sel...  \n2     thanks for  lyft credit i can not use cause ...  \n3                                 bihday your majesty  \n4    model   i love u take with u all the time in ...  \n5              factsguide  society now     motivation  ",
      "text/html": "<div>\n<style scoped>\n    .dataframe tbody tr th:only-of-type {\n        vertical-align: middle;\n    }\n\n    .dataframe tbody tr th {\n        vertical-align: top;\n    }\n\n    .dataframe thead th {\n        text-align: right;\n    }\n</style>\n<table border=\"1\" class=\"dataframe\">\n  <thead>\n    <tr style=\"text-align: right;\">\n      <th></th>\n      <th>label</th>\n      <th>tweet</th>\n      <th>clean_tweet</th>\n    </tr>\n    <tr>\n      <th>id</th>\n      <th></th>\n      <th></th>\n      <th></th>\n    </tr>\n  </thead>\n  <tbody>\n    <tr>\n      <th>1</th>\n      <td>0.0</td>\n      <td>@user when a father is dysfunctional and is s...</td>\n      <td>when a father is dysfunctional and is so sel...</td>\n    </tr>\n    <tr>\n      <th>2</th>\n      <td>0.0</td>\n      <td>@user @user thanks for #lyft credit i can't us...</td>\n      <td>thanks for  lyft credit i can not use cause ...</td>\n    </tr>\n    <tr>\n      <th>3</th>\n      <td>0.0</td>\n      <td>bihday your majesty</td>\n      <td>bihday your majesty</td>\n    </tr>\n    <tr>\n      <th>4</th>\n      <td>0.0</td>\n      <td>#model   i love u take with u all the time in ...</td>\n      <td>model   i love u take with u all the time in ...</td>\n    </tr>\n    <tr>\n      <th>5</th>\n      <td>0.0</td>\n      <td>factsguide: society now    #motivation</td>\n      <td>factsguide  society now     motivation</td>\n    </tr>\n  </tbody>\n</table>\n</div>"
     },
     "execution_count": 9,
     "metadata": {},
     "output_type": "execute_result"
    }
   ],
   "source": [
    "df['clean_tweet'] = df['clean_tweet'].replace(r'[^\\w\\s]', ' ', regex=True)\n",
    "df.head()"
   ],
   "metadata": {
    "collapsed": false,
    "pycharm": {
     "name": "#%%\n"
    }
   }
  },
  {
   "cell_type": "markdown",
   "source": [
    "#### Задание 8"
   ],
   "metadata": {
    "collapsed": false,
    "pycharm": {
     "name": "#%% md\n"
    }
   }
  },
  {
   "cell_type": "code",
   "execution_count": 10,
   "outputs": [
    {
     "data": {
      "text/plain": "    label                                              tweet  \\\nid                                                             \n1     0.0   @user when a father is dysfunctional and is s...   \n2     0.0  @user @user thanks for #lyft credit i can't us...   \n3     0.0                                bihday your majesty   \n4     0.0  #model   i love u take with u all the time in ...   \n5     0.0             factsguide: society now    #motivation   \n\n                                          clean_tweet  \nid                                                     \n1     when a father is dysfunctional and is so sel...  \n2     thanks for  lyft credit i can not use cause ...  \n3                                 bihday your majesty  \n4    model   i love u take with u all the time in ...  \n5              factsguide  society now     motivation  ",
      "text/html": "<div>\n<style scoped>\n    .dataframe tbody tr th:only-of-type {\n        vertical-align: middle;\n    }\n\n    .dataframe tbody tr th {\n        vertical-align: top;\n    }\n\n    .dataframe thead th {\n        text-align: right;\n    }\n</style>\n<table border=\"1\" class=\"dataframe\">\n  <thead>\n    <tr style=\"text-align: right;\">\n      <th></th>\n      <th>label</th>\n      <th>tweet</th>\n      <th>clean_tweet</th>\n    </tr>\n    <tr>\n      <th>id</th>\n      <th></th>\n      <th></th>\n      <th></th>\n    </tr>\n  </thead>\n  <tbody>\n    <tr>\n      <th>1</th>\n      <td>0.0</td>\n      <td>@user when a father is dysfunctional and is s...</td>\n      <td>when a father is dysfunctional and is so sel...</td>\n    </tr>\n    <tr>\n      <th>2</th>\n      <td>0.0</td>\n      <td>@user @user thanks for #lyft credit i can't us...</td>\n      <td>thanks for  lyft credit i can not use cause ...</td>\n    </tr>\n    <tr>\n      <th>3</th>\n      <td>0.0</td>\n      <td>bihday your majesty</td>\n      <td>bihday your majesty</td>\n    </tr>\n    <tr>\n      <th>4</th>\n      <td>0.0</td>\n      <td>#model   i love u take with u all the time in ...</td>\n      <td>model   i love u take with u all the time in ...</td>\n    </tr>\n    <tr>\n      <th>5</th>\n      <td>0.0</td>\n      <td>factsguide: society now    #motivation</td>\n      <td>factsguide  society now     motivation</td>\n    </tr>\n  </tbody>\n</table>\n</div>"
     },
     "execution_count": 10,
     "metadata": {},
     "output_type": "execute_result"
    }
   ],
   "source": [
    "df['clean_tweet'] = df['clean_tweet'].replace(r'[^a-zA-Z0-9]', ' ', regex=True)\n",
    "df.head()"
   ],
   "metadata": {
    "collapsed": false,
    "pycharm": {
     "name": "#%%\n"
    }
   }
  },
  {
   "cell_type": "markdown",
   "source": [
    "#### Задание 9"
   ],
   "metadata": {
    "collapsed": false,
    "pycharm": {
     "name": "#%% md\n"
    }
   }
  },
  {
   "cell_type": "code",
   "execution_count": 11,
   "outputs": [
    {
     "data": {
      "text/plain": "    label                                              tweet  \\\nid                                                             \n1     0.0   @user when a father is dysfunctional and is s...   \n2     0.0  @user @user thanks for #lyft credit i can't us...   \n3     0.0                                bihday your majesty   \n4     0.0  #model   i love u take with u all the time in ...   \n5     0.0             factsguide: society now    #motivation   \n\n                                          clean_tweet  \nid                                                     \n1     when a father is dysfunctional and is so sel...  \n2     thanks for  lyft credit i can not use cause ...  \n3                                 bihday your majesty  \n4    model   i love u take with u all the time in ...  \n5              factsguide  society now     motivation  ",
      "text/html": "<div>\n<style scoped>\n    .dataframe tbody tr th:only-of-type {\n        vertical-align: middle;\n    }\n\n    .dataframe tbody tr th {\n        vertical-align: top;\n    }\n\n    .dataframe thead th {\n        text-align: right;\n    }\n</style>\n<table border=\"1\" class=\"dataframe\">\n  <thead>\n    <tr style=\"text-align: right;\">\n      <th></th>\n      <th>label</th>\n      <th>tweet</th>\n      <th>clean_tweet</th>\n    </tr>\n    <tr>\n      <th>id</th>\n      <th></th>\n      <th></th>\n      <th></th>\n    </tr>\n  </thead>\n  <tbody>\n    <tr>\n      <th>1</th>\n      <td>0.0</td>\n      <td>@user when a father is dysfunctional and is s...</td>\n      <td>when a father is dysfunctional and is so sel...</td>\n    </tr>\n    <tr>\n      <th>2</th>\n      <td>0.0</td>\n      <td>@user @user thanks for #lyft credit i can't us...</td>\n      <td>thanks for  lyft credit i can not use cause ...</td>\n    </tr>\n    <tr>\n      <th>3</th>\n      <td>0.0</td>\n      <td>bihday your majesty</td>\n      <td>bihday your majesty</td>\n    </tr>\n    <tr>\n      <th>4</th>\n      <td>0.0</td>\n      <td>#model   i love u take with u all the time in ...</td>\n      <td>model   i love u take with u all the time in ...</td>\n    </tr>\n    <tr>\n      <th>5</th>\n      <td>0.0</td>\n      <td>factsguide: society now    #motivation</td>\n      <td>factsguide  society now     motivation</td>\n    </tr>\n  </tbody>\n</table>\n</div>"
     },
     "execution_count": 11,
     "metadata": {},
     "output_type": "execute_result"
    }
   ],
   "source": [
    "df['clean_tweet'] = df['clean_tweet'].replace(r'[^a-zA-Z]', ' ', regex=True)\n",
    "df.head()"
   ],
   "metadata": {
    "collapsed": false,
    "pycharm": {
     "name": "#%%\n"
    }
   }
  },
  {
   "cell_type": "markdown",
   "source": [
    "#### Задание 10"
   ],
   "metadata": {
    "collapsed": false,
    "pycharm": {
     "name": "#%% md\n"
    }
   }
  },
  {
   "cell_type": "code",
   "execution_count": 12,
   "outputs": [
    {
     "data": {
      "text/plain": "    label                                              tweet  \\\nid                                                             \n1     0.0   @user when a father is dysfunctional and is s...   \n2     0.0  @user @user thanks for #lyft credit i can't us...   \n3     0.0                                bihday your majesty   \n4     0.0  #model   i love u take with u all the time in ...   \n5     0.0             factsguide: society now    #motivation   \n\n                                          clean_tweet  \nid                                                     \n1   when father is dysfunctional and is so selfish...  \n2   thanks for lyft credit can not use cause they ...  \n3                                 bihday your majesty  \n4             model love take with all the time in ur  \n5                   factsguide society now motivation  ",
      "text/html": "<div>\n<style scoped>\n    .dataframe tbody tr th:only-of-type {\n        vertical-align: middle;\n    }\n\n    .dataframe tbody tr th {\n        vertical-align: top;\n    }\n\n    .dataframe thead th {\n        text-align: right;\n    }\n</style>\n<table border=\"1\" class=\"dataframe\">\n  <thead>\n    <tr style=\"text-align: right;\">\n      <th></th>\n      <th>label</th>\n      <th>tweet</th>\n      <th>clean_tweet</th>\n    </tr>\n    <tr>\n      <th>id</th>\n      <th></th>\n      <th></th>\n      <th></th>\n    </tr>\n  </thead>\n  <tbody>\n    <tr>\n      <th>1</th>\n      <td>0.0</td>\n      <td>@user when a father is dysfunctional and is s...</td>\n      <td>when father is dysfunctional and is so selfish...</td>\n    </tr>\n    <tr>\n      <th>2</th>\n      <td>0.0</td>\n      <td>@user @user thanks for #lyft credit i can't us...</td>\n      <td>thanks for lyft credit can not use cause they ...</td>\n    </tr>\n    <tr>\n      <th>3</th>\n      <td>0.0</td>\n      <td>bihday your majesty</td>\n      <td>bihday your majesty</td>\n    </tr>\n    <tr>\n      <th>4</th>\n      <td>0.0</td>\n      <td>#model   i love u take with u all the time in ...</td>\n      <td>model love take with all the time in ur</td>\n    </tr>\n    <tr>\n      <th>5</th>\n      <td>0.0</td>\n      <td>factsguide: society now    #motivation</td>\n      <td>factsguide society now motivation</td>\n    </tr>\n  </tbody>\n</table>\n</div>"
     },
     "execution_count": 12,
     "metadata": {},
     "output_type": "execute_result"
    }
   ],
   "source": [
    "df['clean_tweet'] = df['clean_tweet'].map(lambda x: ' '.join([w for w in x.split() if len(w) > 1]))\n",
    "df.head()"
   ],
   "metadata": {
    "collapsed": false,
    "pycharm": {
     "name": "#%%\n"
    }
   }
  },
  {
   "cell_type": "markdown",
   "source": [
    "#### Задание 11"
   ],
   "metadata": {
    "collapsed": false,
    "pycharm": {
     "name": "#%% md\n"
    }
   }
  },
  {
   "cell_type": "code",
   "execution_count": 13,
   "outputs": [
    {
     "data": {
      "text/plain": "    label                                              tweet  \\\nid                                                             \n1     0.0   @user when a father is dysfunctional and is s...   \n2     0.0  @user @user thanks for #lyft credit i can't us...   \n3     0.0                                bihday your majesty   \n4     0.0  #model   i love u take with u all the time in ...   \n5     0.0             factsguide: society now    #motivation   \n\n                                          clean_tweet  \\\nid                                                      \n1   when father is dysfunctional and is so selfish...   \n2   thanks for lyft credit can not use cause they ...   \n3                                 bihday your majesty   \n4             model love take with all the time in ur   \n5                   factsguide society now motivation   \n\n                                          tweet_token  \nid                                                     \n1   [when, father, is, dysfunctional, and, is, so,...  \n2   [thanks, for, lyft, credit, can, not, use, cau...  \n3                             [bihday, your, majesty]  \n4   [model, love, take, with, all, the, time, in, ur]  \n5              [factsguide, society, now, motivation]  ",
      "text/html": "<div>\n<style scoped>\n    .dataframe tbody tr th:only-of-type {\n        vertical-align: middle;\n    }\n\n    .dataframe tbody tr th {\n        vertical-align: top;\n    }\n\n    .dataframe thead th {\n        text-align: right;\n    }\n</style>\n<table border=\"1\" class=\"dataframe\">\n  <thead>\n    <tr style=\"text-align: right;\">\n      <th></th>\n      <th>label</th>\n      <th>tweet</th>\n      <th>clean_tweet</th>\n      <th>tweet_token</th>\n    </tr>\n    <tr>\n      <th>id</th>\n      <th></th>\n      <th></th>\n      <th></th>\n      <th></th>\n    </tr>\n  </thead>\n  <tbody>\n    <tr>\n      <th>1</th>\n      <td>0.0</td>\n      <td>@user when a father is dysfunctional and is s...</td>\n      <td>when father is dysfunctional and is so selfish...</td>\n      <td>[when, father, is, dysfunctional, and, is, so,...</td>\n    </tr>\n    <tr>\n      <th>2</th>\n      <td>0.0</td>\n      <td>@user @user thanks for #lyft credit i can't us...</td>\n      <td>thanks for lyft credit can not use cause they ...</td>\n      <td>[thanks, for, lyft, credit, can, not, use, cau...</td>\n    </tr>\n    <tr>\n      <th>3</th>\n      <td>0.0</td>\n      <td>bihday your majesty</td>\n      <td>bihday your majesty</td>\n      <td>[bihday, your, majesty]</td>\n    </tr>\n    <tr>\n      <th>4</th>\n      <td>0.0</td>\n      <td>#model   i love u take with u all the time in ...</td>\n      <td>model love take with all the time in ur</td>\n      <td>[model, love, take, with, all, the, time, in, ur]</td>\n    </tr>\n    <tr>\n      <th>5</th>\n      <td>0.0</td>\n      <td>factsguide: society now    #motivation</td>\n      <td>factsguide society now motivation</td>\n      <td>[factsguide, society, now, motivation]</td>\n    </tr>\n  </tbody>\n</table>\n</div>"
     },
     "execution_count": 13,
     "metadata": {},
     "output_type": "execute_result"
    }
   ],
   "source": [
    "df['tweet_token'] = df['clean_tweet'].apply(nltk.tokenize.word_tokenize)\n",
    "df.head()"
   ],
   "metadata": {
    "collapsed": false,
    "pycharm": {
     "name": "#%%\n"
    }
   }
  },
  {
   "cell_type": "markdown",
   "source": [
    "#### Задание 12"
   ],
   "metadata": {
    "collapsed": false,
    "pycharm": {
     "name": "#%% md\n"
    }
   }
  },
  {
   "cell_type": "code",
   "execution_count": 14,
   "outputs": [
    {
     "name": "stderr",
     "output_type": "stream",
     "text": [
      "[nltk_data] Error loading stopwords: <urlopen error [SSL:\n",
      "[nltk_data]     CERTIFICATE_VERIFY_FAILED] certificate verify failed:\n",
      "[nltk_data]     unable to get local issuer certificate (_ssl.c:1108)>\n"
     ]
    },
    {
     "data": {
      "text/plain": "False"
     },
     "execution_count": 14,
     "metadata": {},
     "output_type": "execute_result"
    }
   ],
   "source": [
    "from nltk.corpus import stopwords\n",
    "nltk.download('stopwords')"
   ],
   "metadata": {
    "collapsed": false,
    "pycharm": {
     "name": "#%%\n"
    }
   }
  },
  {
   "cell_type": "code",
   "execution_count": 15,
   "outputs": [
    {
     "data": {
      "text/plain": "    label                                              tweet  \\\nid                                                             \n1     0.0   @user when a father is dysfunctional and is s...   \n2     0.0  @user @user thanks for #lyft credit i can't us...   \n3     0.0                                bihday your majesty   \n4     0.0  #model   i love u take with u all the time in ...   \n5     0.0             factsguide: society now    #motivation   \n\n                                          clean_tweet  \\\nid                                                      \n1   when father is dysfunctional and is so selfish...   \n2   thanks for lyft credit can not use cause they ...   \n3                                 bihday your majesty   \n4             model love take with all the time in ur   \n5                   factsguide society now motivation   \n\n                                          tweet_token  \\\nid                                                      \n1   [when, father, is, dysfunctional, and, is, so,...   \n2   [thanks, for, lyft, credit, can, not, use, cau...   \n3                             [bihday, your, majesty]   \n4   [model, love, take, with, all, the, time, in, ur]   \n5              [factsguide, society, now, motivation]   \n\n                                 tweet_token_filtered  \nid                                                     \n1   [father, dysfunctional, selfish, drags, kids, ...  \n2   [thanks, lyft, credit, use, cause, offer, whee...  \n3                                   [bihday, majesty]  \n4                       [model, love, take, time, ur]  \n5                   [factsguide, society, motivation]  ",
      "text/html": "<div>\n<style scoped>\n    .dataframe tbody tr th:only-of-type {\n        vertical-align: middle;\n    }\n\n    .dataframe tbody tr th {\n        vertical-align: top;\n    }\n\n    .dataframe thead th {\n        text-align: right;\n    }\n</style>\n<table border=\"1\" class=\"dataframe\">\n  <thead>\n    <tr style=\"text-align: right;\">\n      <th></th>\n      <th>label</th>\n      <th>tweet</th>\n      <th>clean_tweet</th>\n      <th>tweet_token</th>\n      <th>tweet_token_filtered</th>\n    </tr>\n    <tr>\n      <th>id</th>\n      <th></th>\n      <th></th>\n      <th></th>\n      <th></th>\n      <th></th>\n    </tr>\n  </thead>\n  <tbody>\n    <tr>\n      <th>1</th>\n      <td>0.0</td>\n      <td>@user when a father is dysfunctional and is s...</td>\n      <td>when father is dysfunctional and is so selfish...</td>\n      <td>[when, father, is, dysfunctional, and, is, so,...</td>\n      <td>[father, dysfunctional, selfish, drags, kids, ...</td>\n    </tr>\n    <tr>\n      <th>2</th>\n      <td>0.0</td>\n      <td>@user @user thanks for #lyft credit i can't us...</td>\n      <td>thanks for lyft credit can not use cause they ...</td>\n      <td>[thanks, for, lyft, credit, can, not, use, cau...</td>\n      <td>[thanks, lyft, credit, use, cause, offer, whee...</td>\n    </tr>\n    <tr>\n      <th>3</th>\n      <td>0.0</td>\n      <td>bihday your majesty</td>\n      <td>bihday your majesty</td>\n      <td>[bihday, your, majesty]</td>\n      <td>[bihday, majesty]</td>\n    </tr>\n    <tr>\n      <th>4</th>\n      <td>0.0</td>\n      <td>#model   i love u take with u all the time in ...</td>\n      <td>model love take with all the time in ur</td>\n      <td>[model, love, take, with, all, the, time, in, ur]</td>\n      <td>[model, love, take, time, ur]</td>\n    </tr>\n    <tr>\n      <th>5</th>\n      <td>0.0</td>\n      <td>factsguide: society now    #motivation</td>\n      <td>factsguide society now motivation</td>\n      <td>[factsguide, society, now, motivation]</td>\n      <td>[factsguide, society, motivation]</td>\n    </tr>\n  </tbody>\n</table>\n</div>"
     },
     "execution_count": 15,
     "metadata": {},
     "output_type": "execute_result"
    }
   ],
   "source": [
    "df['tweet_token_filtered'] = df['tweet_token'].apply(lambda x: [w for w in x if w not in stopwords.words('english')])\n",
    "df.head()"
   ],
   "metadata": {
    "collapsed": false,
    "pycharm": {
     "name": "#%%\n"
    }
   }
  },
  {
   "cell_type": "markdown",
   "source": [
    "#### Задание 13"
   ],
   "metadata": {
    "collapsed": false,
    "pycharm": {
     "name": "#%% md\n"
    }
   }
  },
  {
   "cell_type": "code",
   "execution_count": 18,
   "outputs": [],
   "source": [
    "sentence_words = nltk.stem.PorterStemmer()\n",
    "df['tweet_stemmed'] = df['tweet_token_filtered'].apply(lambda x: [sentence_words.stem(w) for w in x])"
   ],
   "metadata": {
    "collapsed": false,
    "pycharm": {
     "name": "#%%\n"
    }
   }
  },
  {
   "cell_type": "markdown",
   "source": [
    "#### Задание 14"
   ],
   "metadata": {
    "collapsed": false,
    "pycharm": {
     "name": "#%% md\n"
    }
   }
  },
  {
   "cell_type": "code",
   "execution_count": 19,
   "outputs": [
    {
     "name": "stderr",
     "output_type": "stream",
     "text": [
      "[nltk_data] Error loading wordnet: <urlopen error [SSL:\n",
      "[nltk_data]     CERTIFICATE_VERIFY_FAILED] certificate verify failed:\n",
      "[nltk_data]     unable to get local issuer certificate (_ssl.c:1108)>\n"
     ]
    },
    {
     "data": {
      "text/plain": "False"
     },
     "execution_count": 19,
     "metadata": {},
     "output_type": "execute_result"
    }
   ],
   "source": [
    "nltk.download('wordnet')"
   ],
   "metadata": {
    "collapsed": false,
    "pycharm": {
     "name": "#%%\n"
    }
   }
  },
  {
   "cell_type": "code",
   "execution_count": 20,
   "outputs": [
    {
     "data": {
      "text/plain": "    label                                              tweet  \\\nid                                                             \n1     0.0   @user when a father is dysfunctional and is s...   \n2     0.0  @user @user thanks for #lyft credit i can't us...   \n3     0.0                                bihday your majesty   \n4     0.0  #model   i love u take with u all the time in ...   \n5     0.0             factsguide: society now    #motivation   \n\n                                          clean_tweet  \\\nid                                                      \n1   when father is dysfunctional and is so selfish...   \n2   thanks for lyft credit can not use cause they ...   \n3                                 bihday your majesty   \n4             model love take with all the time in ur   \n5                   factsguide society now motivation   \n\n                                          tweet_token  \\\nid                                                      \n1   [when, father, is, dysfunctional, and, is, so,...   \n2   [thanks, for, lyft, credit, can, not, use, cau...   \n3                             [bihday, your, majesty]   \n4   [model, love, take, with, all, the, time, in, ur]   \n5              [factsguide, society, now, motivation]   \n\n                                 tweet_token_filtered  \\\nid                                                      \n1   [father, dysfunctional, selfish, drags, kids, ...   \n2   [thanks, lyft, credit, use, cause, offer, whee...   \n3                                   [bihday, majesty]   \n4                       [model, love, take, time, ur]   \n5                   [factsguide, society, motivation]   \n\n                                        tweet_stemmed  \\\nid                                                      \n1   [father, dysfunct, selfish, drag, kid, dysfunc...   \n2   [thank, lyft, credit, use, caus, offer, wheelc...   \n3                                   [bihday, majesti]   \n4                       [model, love, take, time, ur]   \n5                         [factsguid, societi, motiv]   \n\n                                      tweet_lemmatize  \nid                                                     \n1   [father, dysfunctional, selfish, drag, kid, dy...  \n2   [thanks, lyft, credit, use, cause, offer, whee...  \n3                                   [bihday, majesty]  \n4                       [model, love, take, time, ur]  \n5                   [factsguide, society, motivation]  ",
      "text/html": "<div>\n<style scoped>\n    .dataframe tbody tr th:only-of-type {\n        vertical-align: middle;\n    }\n\n    .dataframe tbody tr th {\n        vertical-align: top;\n    }\n\n    .dataframe thead th {\n        text-align: right;\n    }\n</style>\n<table border=\"1\" class=\"dataframe\">\n  <thead>\n    <tr style=\"text-align: right;\">\n      <th></th>\n      <th>label</th>\n      <th>tweet</th>\n      <th>clean_tweet</th>\n      <th>tweet_token</th>\n      <th>tweet_token_filtered</th>\n      <th>tweet_stemmed</th>\n      <th>tweet_lemmatize</th>\n    </tr>\n    <tr>\n      <th>id</th>\n      <th></th>\n      <th></th>\n      <th></th>\n      <th></th>\n      <th></th>\n      <th></th>\n      <th></th>\n    </tr>\n  </thead>\n  <tbody>\n    <tr>\n      <th>1</th>\n      <td>0.0</td>\n      <td>@user when a father is dysfunctional and is s...</td>\n      <td>when father is dysfunctional and is so selfish...</td>\n      <td>[when, father, is, dysfunctional, and, is, so,...</td>\n      <td>[father, dysfunctional, selfish, drags, kids, ...</td>\n      <td>[father, dysfunct, selfish, drag, kid, dysfunc...</td>\n      <td>[father, dysfunctional, selfish, drag, kid, dy...</td>\n    </tr>\n    <tr>\n      <th>2</th>\n      <td>0.0</td>\n      <td>@user @user thanks for #lyft credit i can't us...</td>\n      <td>thanks for lyft credit can not use cause they ...</td>\n      <td>[thanks, for, lyft, credit, can, not, use, cau...</td>\n      <td>[thanks, lyft, credit, use, cause, offer, whee...</td>\n      <td>[thank, lyft, credit, use, caus, offer, wheelc...</td>\n      <td>[thanks, lyft, credit, use, cause, offer, whee...</td>\n    </tr>\n    <tr>\n      <th>3</th>\n      <td>0.0</td>\n      <td>bihday your majesty</td>\n      <td>bihday your majesty</td>\n      <td>[bihday, your, majesty]</td>\n      <td>[bihday, majesty]</td>\n      <td>[bihday, majesti]</td>\n      <td>[bihday, majesty]</td>\n    </tr>\n    <tr>\n      <th>4</th>\n      <td>0.0</td>\n      <td>#model   i love u take with u all the time in ...</td>\n      <td>model love take with all the time in ur</td>\n      <td>[model, love, take, with, all, the, time, in, ur]</td>\n      <td>[model, love, take, time, ur]</td>\n      <td>[model, love, take, time, ur]</td>\n      <td>[model, love, take, time, ur]</td>\n    </tr>\n    <tr>\n      <th>5</th>\n      <td>0.0</td>\n      <td>factsguide: society now    #motivation</td>\n      <td>factsguide society now motivation</td>\n      <td>[factsguide, society, now, motivation]</td>\n      <td>[factsguide, society, motivation]</td>\n      <td>[factsguid, societi, motiv]</td>\n      <td>[factsguide, society, motivation]</td>\n    </tr>\n  </tbody>\n</table>\n</div>"
     },
     "execution_count": 20,
     "metadata": {},
     "output_type": "execute_result"
    }
   ],
   "source": [
    "sentence_words = nltk.stem.wordnet.WordNetLemmatizer()\n",
    "df['tweet_lemmatize'] = df['tweet_token_filtered'].apply(lambda x: [sentence_words.lemmatize(w) for w in x])\n",
    "df.head()"
   ],
   "metadata": {
    "collapsed": false,
    "pycharm": {
     "name": "#%%\n"
    }
   }
  },
  {
   "cell_type": "code",
   "execution_count": 21,
   "outputs": [],
   "source": [
    "df.to_csv('result.csv')"
   ],
   "metadata": {
    "collapsed": false,
    "pycharm": {
     "name": "#%%\n"
    }
   }
  },
  {
   "cell_type": "code",
   "execution_count": null,
   "outputs": [],
   "source": [],
   "metadata": {
    "collapsed": false,
    "pycharm": {
     "name": "#%%\n"
    }
   }
  }
 ],
 "metadata": {
  "kernelspec": {
   "display_name": "Python 3",
   "language": "python",
   "name": "python3"
  },
  "language_info": {
   "codemirror_mode": {
    "name": "ipython",
    "version": 2
   },
   "file_extension": ".py",
   "mimetype": "text/x-python",
   "name": "python",
   "nbconvert_exporter": "python",
   "pygments_lexer": "ipython2",
   "version": "2.7.6"
  }
 },
 "nbformat": 4,
 "nbformat_minor": 0
}