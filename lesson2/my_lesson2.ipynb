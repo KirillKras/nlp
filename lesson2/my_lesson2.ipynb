{
 "cells": [
  {
   "cell_type": "code",
   "execution_count": 1,
   "metadata": {
    "collapsed": true
   },
   "outputs": [],
   "source": [
    "import pandas as pd\n",
    "from sklearn.feature_extraction.text import CountVectorizer, TfidfVectorizer\n",
    "import numpy as np"
   ]
  },
  {
   "cell_type": "code",
   "execution_count": 2,
   "outputs": [
    {
     "data": {
      "text/plain": "    label                                              tweet  \\\nid                                                             \n1     0.0   @user when a father is dysfunctional and is s...   \n2     0.0  @user @user thanks for #lyft credit i can't us...   \n3     0.0                                bihday your majesty   \n4     0.0  #model   i love u take with u all the time in ...   \n5     0.0             factsguide: society now    #motivation   \n\n                                          clean_tweet  \\\nid                                                      \n1   when father is dysfunctional and is so selfish...   \n2   thanks for lyft credit can not use cause they ...   \n3                                 bihday your majesty   \n4             model love take with all the time in ur   \n5                   factsguide society now motivation   \n\n                                          tweet_token  \\\nid                                                      \n1   [when, father, is, dysfunctional, and, is, so,...   \n2   [thanks, for, lyft, credit, can, not, use, cau...   \n3                             [bihday, your, majesty]   \n4   [model, love, take, with, all, the, time, in, ur]   \n5              [factsguide, society, now, motivation]   \n\n                                 tweet_token_filtered  \\\nid                                                      \n1   [father, dysfunctional, selfish, drags, kids, ...   \n2   [thanks, lyft, credit, use, cause, offer, whee...   \n3                                   [bihday, majesty]   \n4                       [model, love, take, time, ur]   \n5                   [factsguide, society, motivation]   \n\n                                        tweet_stemmed  \\\nid                                                      \n1   [father, dysfunct, selfish, drag, kid, dysfunc...   \n2   [thank, lyft, credit, use, caus, offer, wheelc...   \n3                                   [bihday, majesti]   \n4                       [model, love, take, time, ur]   \n5                         [factsguid, societi, motiv]   \n\n                                      tweet_lemmatize  \nid                                                     \n1   [father, dysfunctional, selfish, drag, kid, dy...  \n2   [thanks, lyft, credit, use, cause, offer, whee...  \n3                                   [bihday, majesty]  \n4                       [model, love, take, time, ur]  \n5                   [factsguide, society, motivation]  ",
      "text/html": "<div>\n<style scoped>\n    .dataframe tbody tr th:only-of-type {\n        vertical-align: middle;\n    }\n\n    .dataframe tbody tr th {\n        vertical-align: top;\n    }\n\n    .dataframe thead th {\n        text-align: right;\n    }\n</style>\n<table border=\"1\" class=\"dataframe\">\n  <thead>\n    <tr style=\"text-align: right;\">\n      <th></th>\n      <th>label</th>\n      <th>tweet</th>\n      <th>clean_tweet</th>\n      <th>tweet_token</th>\n      <th>tweet_token_filtered</th>\n      <th>tweet_stemmed</th>\n      <th>tweet_lemmatize</th>\n    </tr>\n    <tr>\n      <th>id</th>\n      <th></th>\n      <th></th>\n      <th></th>\n      <th></th>\n      <th></th>\n      <th></th>\n      <th></th>\n    </tr>\n  </thead>\n  <tbody>\n    <tr>\n      <th>1</th>\n      <td>0.0</td>\n      <td>@user when a father is dysfunctional and is s...</td>\n      <td>when father is dysfunctional and is so selfish...</td>\n      <td>[when, father, is, dysfunctional, and, is, so,...</td>\n      <td>[father, dysfunctional, selfish, drags, kids, ...</td>\n      <td>[father, dysfunct, selfish, drag, kid, dysfunc...</td>\n      <td>[father, dysfunctional, selfish, drag, kid, dy...</td>\n    </tr>\n    <tr>\n      <th>2</th>\n      <td>0.0</td>\n      <td>@user @user thanks for #lyft credit i can't us...</td>\n      <td>thanks for lyft credit can not use cause they ...</td>\n      <td>[thanks, for, lyft, credit, can, not, use, cau...</td>\n      <td>[thanks, lyft, credit, use, cause, offer, whee...</td>\n      <td>[thank, lyft, credit, use, caus, offer, wheelc...</td>\n      <td>[thanks, lyft, credit, use, cause, offer, whee...</td>\n    </tr>\n    <tr>\n      <th>3</th>\n      <td>0.0</td>\n      <td>bihday your majesty</td>\n      <td>bihday your majesty</td>\n      <td>[bihday, your, majesty]</td>\n      <td>[bihday, majesty]</td>\n      <td>[bihday, majesti]</td>\n      <td>[bihday, majesty]</td>\n    </tr>\n    <tr>\n      <th>4</th>\n      <td>0.0</td>\n      <td>#model   i love u take with u all the time in ...</td>\n      <td>model love take with all the time in ur</td>\n      <td>[model, love, take, with, all, the, time, in, ur]</td>\n      <td>[model, love, take, time, ur]</td>\n      <td>[model, love, take, time, ur]</td>\n      <td>[model, love, take, time, ur]</td>\n    </tr>\n    <tr>\n      <th>5</th>\n      <td>0.0</td>\n      <td>factsguide: society now    #motivation</td>\n      <td>factsguide society now motivation</td>\n      <td>[factsguide, society, now, motivation]</td>\n      <td>[factsguide, society, motivation]</td>\n      <td>[factsguid, societi, motiv]</td>\n      <td>[factsguide, society, motivation]</td>\n    </tr>\n  </tbody>\n</table>\n</div>"
     },
     "execution_count": 2,
     "metadata": {},
     "output_type": "execute_result"
    }
   ],
   "source": [
    "df = pd.read_pickle('tweets.df')\n",
    "df.head()"
   ],
   "metadata": {
    "collapsed": false,
    "pycharm": {
     "name": "#%%\n"
    }
   }
  },
  {
   "cell_type": "markdown",
   "source": [
    "#### 1. Создайте мешок слов CountVectorizer"
   ],
   "metadata": {
    "collapsed": false,
    "pycharm": {
     "name": "#%% md\n"
    }
   }
  },
  {
   "cell_type": "code",
   "execution_count": 5,
   "outputs": [],
   "source": [
    "df['tweet_stemmed'] = df['tweet_stemmed'].map(lambda x: ' '.join(x))\n",
    "df['tweet_lemmatize'] = df['tweet_lemmatize'].map(lambda x: ' '.join(x))"
   ],
   "metadata": {
    "collapsed": false,
    "pycharm": {
     "name": "#%%\n"
    }
   }
  },
  {
   "cell_type": "code",
   "execution_count": 6,
   "outputs": [],
   "source": [
    "count_vector = CountVectorizer(max_df=0.9, max_features=1000, stop_words='english')\n",
    "bag_stemmed = count_vector.fit_transform(df['tweet_stemmed'])\n",
    "feature_names = count_vector.get_feature_names()\n",
    "df_stemmed_count = pd.DataFrame(bag_stemmed.toarray(), columns = feature_names)"
   ],
   "metadata": {
    "collapsed": false,
    "pycharm": {
     "name": "#%%\n"
    }
   }
  },
  {
   "cell_type": "code",
   "execution_count": 7,
   "outputs": [],
   "source": [
    "count_vector =  CountVectorizer(max_df=0.9, max_features=1000, stop_words='english')\n",
    "bag_lemmatize = count_vector.fit_transform(df['tweet_lemmatize'])\n",
    "feature_names = count_vector.get_feature_names()\n",
    "df_lemmatize_count = pd.DataFrame(bag_lemmatize.toarray(), columns = feature_names)"
   ],
   "metadata": {
    "collapsed": false,
    "pycharm": {
     "name": "#%%\n"
    }
   }
  },
  {
   "cell_type": "markdown",
   "source": [
    "#### 2. Создайте мешок слов TfidfVectorizer"
   ],
   "metadata": {
    "collapsed": false,
    "pycharm": {
     "name": "#%% md\n"
    }
   }
  },
  {
   "cell_type": "code",
   "execution_count": 8,
   "outputs": [],
   "source": [
    "tfidf_vector = TfidfVectorizer(max_df=0.9, max_features=1000, stop_words='english')\n",
    "bag_stemmed = tfidf_vector.fit_transform(df['tweet_stemmed'])\n",
    "feature_names = tfidf_vector.get_feature_names()\n",
    "df_stemmed_tfidf = pd.DataFrame(bag_stemmed.toarray(), columns = feature_names)"
   ],
   "metadata": {
    "collapsed": false,
    "pycharm": {
     "name": "#%%\n"
    }
   }
  },
  {
   "cell_type": "code",
   "execution_count": 9,
   "outputs": [],
   "source": [
    "tfidf_vector = TfidfVectorizer(max_df=0.9, max_features=1000, stop_words='english')\n",
    "bag_lemmatize = tfidf_vector.fit_transform(df['tweet_lemmatize'])\n",
    "feature_names = tfidf_vector.get_feature_names()\n",
    "df_lemmatize_tfidf = pd.DataFrame(bag_lemmatize.toarray(), columns = feature_names)"
   ],
   "metadata": {
    "collapsed": false,
    "pycharm": {
     "name": "#%%\n"
    }
   }
  },
  {
   "cell_type": "markdown",
   "source": [
    "#### 3. Натренируем gensim.models.Word2Vec модель на наших данных."
   ],
   "metadata": {
    "collapsed": false,
    "pycharm": {
     "name": "#%% md\n"
    }
   }
  },
  {
   "cell_type": "code",
   "execution_count": 3,
   "outputs": [],
   "source": [
    "from gensim.models import Word2Vec"
   ],
   "metadata": {
    "collapsed": false,
    "pycharm": {
     "name": "#%%\n"
    }
   }
  },
  {
   "cell_type": "code",
   "execution_count": 4,
   "outputs": [],
   "source": [
    "model = Word2Vec(size=200, window=5, min_count=2, sg = 1, hs = 0,\n",
    "                 negative = 10, workers= 32, seed = 34)\n",
    "model.build_vocab(df['tweet_token'].tolist())"
   ],
   "metadata": {
    "collapsed": false,
    "pycharm": {
     "name": "#%%\n"
    }
   }
  },
  {
   "cell_type": "code",
   "execution_count": 5,
   "outputs": [
    {
     "data": {
      "text/plain": "(9058424, 11427300)"
     },
     "execution_count": 5,
     "metadata": {},
     "output_type": "execute_result"
    }
   ],
   "source": [
    "model.train(sentences=df['tweet_token'], total_examples=df['tweet_token'].shape[0], epochs=20)"
   ],
   "metadata": {
    "collapsed": false,
    "pycharm": {
     "name": "#%%\n"
    }
   }
  },
  {
   "cell_type": "markdown",
   "source": [
    "#### Задание 4."
   ],
   "metadata": {
    "collapsed": false,
    "pycharm": {
     "name": "#%% md\n"
    }
   }
  },
  {
   "cell_type": "code",
   "execution_count": 13,
   "outputs": [
    {
     "name": "stderr",
     "output_type": "stream",
     "text": [
      "<ipython-input-13-37ff56d1ad61>:1: DeprecationWarning: Call to deprecated `most_similar` (Method will be removed in 4.0.0, use self.wv.most_similar() instead).\n",
      "  model.most_similar('dinner')\n"
     ]
    },
    {
     "data": {
      "text/plain": "[('cookout', 0.5770537257194519),\n ('bihdaydinner', 0.5673478841781616),\n ('shawarma', 0.5634592771530151),\n ('tacotuesday', 0.5583888292312622),\n ('whoopppp', 0.5556762218475342),\n ('burritos', 0.5494523048400879),\n ('bolognese', 0.5488945841789246),\n ('waterloo', 0.5476481914520264),\n ('lamb', 0.546393871307373),\n ('sissy', 0.5397379398345947)]"
     },
     "execution_count": 13,
     "metadata": {},
     "output_type": "execute_result"
    }
   ],
   "source": [
    "model.most_similar('dinner')"
   ],
   "metadata": {
    "collapsed": false,
    "pycharm": {
     "name": "#%%\n"
    }
   }
  },
  {
   "cell_type": "code",
   "execution_count": 16,
   "outputs": [
    {
     "name": "stderr",
     "output_type": "stream",
     "text": [
      "<ipython-input-16-6421e9190a56>:1: DeprecationWarning: Call to deprecated `most_similar` (Method will be removed in 4.0.0, use self.wv.most_similar() instead).\n",
      "  model.most_similar('trump')\n"
     ]
    },
    {
     "data": {
      "text/plain": "[('donald', 0.5629775524139404),\n ('dumptrump', 0.523098349571228),\n ('suppoer', 0.5228065252304077),\n ('chopra', 0.5207331776618958),\n ('unfit', 0.512126088142395),\n ('unfavorability', 0.5112093687057495),\n ('donaldtrump', 0.5022592544555664),\n ('fuhered', 0.49878817796707153),\n ('paladino', 0.4965664744377136),\n ('bernie', 0.49255359172821045)]"
     },
     "execution_count": 16,
     "metadata": {},
     "output_type": "execute_result"
    }
   ],
   "source": [
    "model.most_similar('trump')"
   ],
   "metadata": {
    "collapsed": false,
    "pycharm": {
     "name": "#%%\n"
    }
   }
  },
  {
   "cell_type": "markdown",
   "source": [
    "#### Задание 5"
   ],
   "metadata": {
    "collapsed": false,
    "pycharm": {
     "name": "#%% md\n"
    }
   }
  },
  {
   "cell_type": "code",
   "execution_count": 19,
   "outputs": [
    {
     "name": "stderr",
     "output_type": "stream",
     "text": [
      "<ipython-input-19-74c8d4219b4b>:1: DeprecationWarning: Call to deprecated `__getitem__` (Method will be removed in 4.0.0, use self.wv.__getitem__() instead).\n",
      "  model['food']\n"
     ]
    },
    {
     "data": {
      "text/plain": "array([ 0.3044686 , -0.17539254, -0.34696186, -0.01878568, -0.41235077,\n        0.22495846, -0.3796984 , -0.48112145, -0.82838327,  0.00656416,\n       -0.7054046 ,  0.35985106,  0.4843661 , -0.37511578,  0.72319204,\n       -0.83301044, -0.2834108 , -0.02482463, -0.38069597, -0.83983546,\n       -0.44289872,  0.3032419 ,  0.12991242, -0.10005685,  0.22340032,\n        0.7409068 , -0.12666787,  0.6294179 ,  0.5727627 ,  0.02899527,\n       -0.30116525, -0.6426612 ,  0.4188779 , -0.02069636, -0.6369305 ,\n        0.03764978,  0.8916369 , -1.0280696 , -0.18933955,  1.2060462 ,\n        0.11371443, -0.10397247, -0.7235175 ,  0.33099574, -0.06410989,\n        0.674349  ,  0.42368922, -0.28733078,  0.06885223,  0.30286476,\n       -0.03725141,  0.12588571, -0.56842464,  0.1325567 , -0.2654746 ,\n        0.37056586,  0.19497827, -0.4612142 , -0.05735702, -0.7326453 ,\n       -0.7993108 , -0.2641993 ,  0.38194275, -0.22423731,  0.28834698,\n        0.36212504, -0.78595287,  0.24745394, -0.36067873, -0.25475526,\n       -0.20665799,  0.4454883 , -0.6235363 , -0.13164002,  0.38202485,\n       -0.48986116, -0.5625777 , -0.5450658 , -0.01721516,  0.17136042,\n        0.55098444,  0.16527958,  0.17246766, -0.43389395,  0.39151317,\n       -0.27807504, -0.15475613,  0.2647129 , -0.2642568 ,  0.6597603 ,\n       -0.04997351, -0.8075456 , -0.24289496,  0.4562047 , -0.5481474 ,\n       -0.03977835,  0.77333426, -0.6651033 ,  0.13787083, -0.04829002,\n       -0.11567731,  0.15509002,  0.11313091,  0.05125652, -0.4447041 ,\n       -0.61702   , -0.13572486,  0.0983496 ,  0.35758087,  0.06124866,\n       -0.00445766,  0.7455659 , -0.14531565, -0.07639445, -0.3018928 ,\n       -0.13360088, -0.32075694,  0.17022379,  0.0869689 , -0.12057298,\n       -0.51213413, -0.09045089, -0.1890503 ,  0.59922606,  0.09410958,\n       -0.13566339, -0.1448057 ,  0.7088248 , -0.39514005,  0.07857488,\n        0.05256827,  0.45247146,  0.27128217, -0.22402121,  0.10498058,\n        0.07819813,  0.5363847 , -0.44695032,  0.33745325, -0.4794945 ,\n        0.1840017 ,  0.6502194 , -0.24738912,  0.20919827,  0.39583963,\n        0.22504061,  0.05712832, -0.05009043, -0.5777733 , -0.3125204 ,\n       -0.3323954 ,  0.5030463 ,  0.00376066,  0.2535648 ,  0.20716615,\n       -0.1087895 , -0.16516417,  0.672634  ,  0.27738932,  0.48474863,\n       -0.29084367, -0.449393  , -0.04028777, -0.15698206, -0.01158158,\n       -0.37069944, -0.31654063, -0.56169784,  0.05961586, -0.62065715,\n       -0.3160073 , -0.36300355, -0.16766664, -0.6339642 ,  0.5904678 ,\n       -0.12713826,  0.40220436, -0.6794754 , -0.14881715, -0.30651638,\n        0.02654371, -0.06975408, -0.51006925,  0.24147722, -0.00928027,\n       -0.8749922 ,  0.85134643,  0.4262236 ,  0.63365126,  0.25015432,\n        0.61758614,  0.45525092, -0.24949627, -0.25775576,  0.02832721,\n        0.48536834, -0.3551064 ,  0.2323426 ,  0.2678646 , -0.01743902],\n      dtype=float32)"
     },
     "execution_count": 19,
     "metadata": {},
     "output_type": "execute_result"
    }
   ],
   "source": [
    "model['food']"
   ],
   "metadata": {
    "collapsed": false,
    "pycharm": {
     "name": "#%%\n"
    }
   }
  },
  {
   "cell_type": "markdown",
   "source": [
    "#### Задание 6"
   ],
   "metadata": {
    "collapsed": false,
    "pycharm": {
     "name": "#%% md\n"
    }
   }
  },
  {
   "cell_type": "code",
   "execution_count": 12,
   "outputs": [
    {
     "name": "stderr",
     "output_type": "stream",
     "text": [
      "<ipython-input-12-fb1f57177727>:4: DeprecationWarning: Call to deprecated `__contains__` (Method will be removed in 4.0.0, use self.wv.__contains__() instead).\n",
      "  res = sum([model[w] for w in x if w in model]) / len(x)\n",
      "<ipython-input-12-fb1f57177727>:4: DeprecationWarning: Call to deprecated `__getitem__` (Method will be removed in 4.0.0, use self.wv.__getitem__() instead).\n",
      "  res = sum([model[w] for w in x if w in model]) / len(x)\n"
     ]
    }
   ],
   "source": [
    "def word_tweet_vec(x):\n",
    "    if len(x) == 0:\n",
    "        return 0\n",
    "    res = sum([model[w] for w in x if w in model]) / len(x)\n",
    "    return res\n",
    "\n",
    "s_tweet_vec = df['tweet_token'].map(word_tweet_vec)"
   ],
   "metadata": {
    "collapsed": false,
    "pycharm": {
     "name": "#%%\n"
    }
   }
  },
  {
   "cell_type": "code",
   "execution_count": 15,
   "outputs": [
    {
     "data": {
      "text/plain": "        0         1         2         3         4         5         6    \\\n1  0.022259  0.156993  0.165100  0.149903 -0.140225  0.101181  0.119540   \n2 -0.057983 -0.027199 -0.075301 -0.017367 -0.156267  0.088982  0.010921   \n3  0.053441 -0.105269  0.142084 -0.013520 -0.272816  0.120379 -0.156760   \n4 -0.007070  0.057344 -0.009448  0.137549 -0.330264  0.242516  0.103044   \n5 -0.141424 -0.344334 -0.144374  0.287487 -0.023541  0.167371  0.348838   \n\n        7         8         9    ...       190       191       192       193  \\\n1 -0.232832 -0.161915  0.058392  ...  0.065430  0.238371  0.106856  0.056887   \n2 -0.075530 -0.073844  0.120134  ...  0.138223  0.064483 -0.123719 -0.002464   \n3 -0.014277  0.077068  0.206064  ...  0.233665  0.236085 -0.323813 -0.038191   \n4 -0.102288 -0.070792  0.152577  ...  0.078128  0.023463  0.040744  0.001827   \n5 -0.167415  0.324456  0.007413  ...  0.283842  0.438881 -0.192216 -0.200535   \n\n        194       195       196       197       198       199  \n1 -0.228502  0.267590  0.199367 -0.008874  0.188225 -0.198625  \n2 -0.140575  0.249894  0.162515 -0.045118  0.110639 -0.040035  \n3 -0.213193  0.237768  0.437634 -0.442843  0.182382  0.007676  \n4 -0.469615  0.228808  0.046305  0.056848  0.242888 -0.040014  \n5 -0.254775  0.451128 -0.062189  0.101952  0.013415 -0.200397  \n\n[5 rows x 200 columns]",
      "text/html": "<div>\n<style scoped>\n    .dataframe tbody tr th:only-of-type {\n        vertical-align: middle;\n    }\n\n    .dataframe tbody tr th {\n        vertical-align: top;\n    }\n\n    .dataframe thead th {\n        text-align: right;\n    }\n</style>\n<table border=\"1\" class=\"dataframe\">\n  <thead>\n    <tr style=\"text-align: right;\">\n      <th></th>\n      <th>0</th>\n      <th>1</th>\n      <th>2</th>\n      <th>3</th>\n      <th>4</th>\n      <th>5</th>\n      <th>6</th>\n      <th>7</th>\n      <th>8</th>\n      <th>9</th>\n      <th>...</th>\n      <th>190</th>\n      <th>191</th>\n      <th>192</th>\n      <th>193</th>\n      <th>194</th>\n      <th>195</th>\n      <th>196</th>\n      <th>197</th>\n      <th>198</th>\n      <th>199</th>\n    </tr>\n  </thead>\n  <tbody>\n    <tr>\n      <th>1</th>\n      <td>0.022259</td>\n      <td>0.156993</td>\n      <td>0.165100</td>\n      <td>0.149903</td>\n      <td>-0.140225</td>\n      <td>0.101181</td>\n      <td>0.119540</td>\n      <td>-0.232832</td>\n      <td>-0.161915</td>\n      <td>0.058392</td>\n      <td>...</td>\n      <td>0.065430</td>\n      <td>0.238371</td>\n      <td>0.106856</td>\n      <td>0.056887</td>\n      <td>-0.228502</td>\n      <td>0.267590</td>\n      <td>0.199367</td>\n      <td>-0.008874</td>\n      <td>0.188225</td>\n      <td>-0.198625</td>\n    </tr>\n    <tr>\n      <th>2</th>\n      <td>-0.057983</td>\n      <td>-0.027199</td>\n      <td>-0.075301</td>\n      <td>-0.017367</td>\n      <td>-0.156267</td>\n      <td>0.088982</td>\n      <td>0.010921</td>\n      <td>-0.075530</td>\n      <td>-0.073844</td>\n      <td>0.120134</td>\n      <td>...</td>\n      <td>0.138223</td>\n      <td>0.064483</td>\n      <td>-0.123719</td>\n      <td>-0.002464</td>\n      <td>-0.140575</td>\n      <td>0.249894</td>\n      <td>0.162515</td>\n      <td>-0.045118</td>\n      <td>0.110639</td>\n      <td>-0.040035</td>\n    </tr>\n    <tr>\n      <th>3</th>\n      <td>0.053441</td>\n      <td>-0.105269</td>\n      <td>0.142084</td>\n      <td>-0.013520</td>\n      <td>-0.272816</td>\n      <td>0.120379</td>\n      <td>-0.156760</td>\n      <td>-0.014277</td>\n      <td>0.077068</td>\n      <td>0.206064</td>\n      <td>...</td>\n      <td>0.233665</td>\n      <td>0.236085</td>\n      <td>-0.323813</td>\n      <td>-0.038191</td>\n      <td>-0.213193</td>\n      <td>0.237768</td>\n      <td>0.437634</td>\n      <td>-0.442843</td>\n      <td>0.182382</td>\n      <td>0.007676</td>\n    </tr>\n    <tr>\n      <th>4</th>\n      <td>-0.007070</td>\n      <td>0.057344</td>\n      <td>-0.009448</td>\n      <td>0.137549</td>\n      <td>-0.330264</td>\n      <td>0.242516</td>\n      <td>0.103044</td>\n      <td>-0.102288</td>\n      <td>-0.070792</td>\n      <td>0.152577</td>\n      <td>...</td>\n      <td>0.078128</td>\n      <td>0.023463</td>\n      <td>0.040744</td>\n      <td>0.001827</td>\n      <td>-0.469615</td>\n      <td>0.228808</td>\n      <td>0.046305</td>\n      <td>0.056848</td>\n      <td>0.242888</td>\n      <td>-0.040014</td>\n    </tr>\n    <tr>\n      <th>5</th>\n      <td>-0.141424</td>\n      <td>-0.344334</td>\n      <td>-0.144374</td>\n      <td>0.287487</td>\n      <td>-0.023541</td>\n      <td>0.167371</td>\n      <td>0.348838</td>\n      <td>-0.167415</td>\n      <td>0.324456</td>\n      <td>0.007413</td>\n      <td>...</td>\n      <td>0.283842</td>\n      <td>0.438881</td>\n      <td>-0.192216</td>\n      <td>-0.200535</td>\n      <td>-0.254775</td>\n      <td>0.451128</td>\n      <td>-0.062189</td>\n      <td>0.101952</td>\n      <td>0.013415</td>\n      <td>-0.200397</td>\n    </tr>\n  </tbody>\n</table>\n<p>5 rows × 200 columns</p>\n</div>"
     },
     "execution_count": 15,
     "metadata": {},
     "output_type": "execute_result"
    }
   ],
   "source": [
    "df_tweet_vec = pd.DataFrame.from_dict(dict(zip(s_tweet_vec.index, s_tweet_vec.values))).T\n",
    "df_tweet_vec.head()"
   ],
   "metadata": {
    "collapsed": false,
    "pycharm": {
     "name": "#%%\n"
    }
   }
  },
  {
   "cell_type": "code",
   "execution_count": 16,
   "outputs": [
    {
     "data": {
      "text/plain": "(49159, 200)"
     },
     "execution_count": 16,
     "metadata": {},
     "output_type": "execute_result"
    }
   ],
   "source": [
    "df_tweet_vec.shape"
   ],
   "metadata": {
    "collapsed": false,
    "pycharm": {
     "name": "#%%\n"
    }
   }
  },
  {
   "cell_type": "code",
   "execution_count": null,
   "outputs": [],
   "source": [],
   "metadata": {
    "collapsed": false,
    "pycharm": {
     "name": "#%%\n"
    }
   }
  }
 ],
 "metadata": {
  "kernelspec": {
   "display_name": "Python 3",
   "language": "python",
   "name": "python3"
  },
  "language_info": {
   "codemirror_mode": {
    "name": "ipython",
    "version": 2
   },
   "file_extension": ".py",
   "mimetype": "text/x-python",
   "name": "python",
   "nbconvert_exporter": "python",
   "pygments_lexer": "ipython2",
   "version": "2.7.6"
  }
 },
 "nbformat": 4,
 "nbformat_minor": 0
}