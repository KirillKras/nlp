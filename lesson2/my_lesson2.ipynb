{
 "cells": [
  {
   "cell_type": "code",
   "execution_count": 1,
   "metadata": {
    "collapsed": true
   },
   "outputs": [],
   "source": [
    "import pandas as pd\n",
    "import sklearn"
   ]
  },
  {
   "cell_type": "code",
   "execution_count": 4,
   "outputs": [
    {
     "data": {
      "text/plain": "    label                                              tweet  \\\nid                                                             \n1     0.0   @user when a father is dysfunctional and is s...   \n2     0.0  @user @user thanks for #lyft credit i can't us...   \n3     0.0                                bihday your majesty   \n4     0.0  #model   i love u take with u all the time in ...   \n5     0.0             factsguide: society now    #motivation   \n\n                                          clean_tweet  \\\nid                                                      \n1   when father is dysfunctional and is so selfish...   \n2   thanks for lyft credit can not use cause they ...   \n3                                 bihday your majesty   \n4             model love take with all the time in ur   \n5                   factsguide society now motivation   \n\n                                          tweet_token  \\\nid                                                      \n1   ['when', 'father', 'is', 'dysfunctional', 'and...   \n2   ['thanks', 'for', 'lyft', 'credit', 'can', 'no...   \n3                       ['bihday', 'your', 'majesty']   \n4   ['model', 'love', 'take', 'with', 'all', 'the'...   \n5      ['factsguide', 'society', 'now', 'motivation']   \n\n                                 tweet_token_filtered  \\\nid                                                      \n1   ['father', 'dysfunctional', 'selfish', 'drags'...   \n2   ['thanks', 'lyft', 'credit', 'use', 'cause', '...   \n3                               ['bihday', 'majesty']   \n4             ['model', 'love', 'take', 'time', 'ur']   \n5             ['factsguide', 'society', 'motivation']   \n\n                                        tweet_stemmed  \nid                                                     \n1   ['father', 'dysfunctional', 'selfish', 'drag',...  \n2   ['thanks', 'lyft', 'credit', 'use', 'cause', '...  \n3                               ['bihday', 'majesty']  \n4             ['model', 'love', 'take', 'time', 'ur']  \n5             ['factsguide', 'society', 'motivation']  ",
      "text/html": "<div>\n<style scoped>\n    .dataframe tbody tr th:only-of-type {\n        vertical-align: middle;\n    }\n\n    .dataframe tbody tr th {\n        vertical-align: top;\n    }\n\n    .dataframe thead th {\n        text-align: right;\n    }\n</style>\n<table border=\"1\" class=\"dataframe\">\n  <thead>\n    <tr style=\"text-align: right;\">\n      <th></th>\n      <th>label</th>\n      <th>tweet</th>\n      <th>clean_tweet</th>\n      <th>tweet_token</th>\n      <th>tweet_token_filtered</th>\n      <th>tweet_stemmed</th>\n    </tr>\n    <tr>\n      <th>id</th>\n      <th></th>\n      <th></th>\n      <th></th>\n      <th></th>\n      <th></th>\n      <th></th>\n    </tr>\n  </thead>\n  <tbody>\n    <tr>\n      <th>1</th>\n      <td>0.0</td>\n      <td>@user when a father is dysfunctional and is s...</td>\n      <td>when father is dysfunctional and is so selfish...</td>\n      <td>['when', 'father', 'is', 'dysfunctional', 'and...</td>\n      <td>['father', 'dysfunctional', 'selfish', 'drags'...</td>\n      <td>['father', 'dysfunctional', 'selfish', 'drag',...</td>\n    </tr>\n    <tr>\n      <th>2</th>\n      <td>0.0</td>\n      <td>@user @user thanks for #lyft credit i can't us...</td>\n      <td>thanks for lyft credit can not use cause they ...</td>\n      <td>['thanks', 'for', 'lyft', 'credit', 'can', 'no...</td>\n      <td>['thanks', 'lyft', 'credit', 'use', 'cause', '...</td>\n      <td>['thanks', 'lyft', 'credit', 'use', 'cause', '...</td>\n    </tr>\n    <tr>\n      <th>3</th>\n      <td>0.0</td>\n      <td>bihday your majesty</td>\n      <td>bihday your majesty</td>\n      <td>['bihday', 'your', 'majesty']</td>\n      <td>['bihday', 'majesty']</td>\n      <td>['bihday', 'majesty']</td>\n    </tr>\n    <tr>\n      <th>4</th>\n      <td>0.0</td>\n      <td>#model   i love u take with u all the time in ...</td>\n      <td>model love take with all the time in ur</td>\n      <td>['model', 'love', 'take', 'with', 'all', 'the'...</td>\n      <td>['model', 'love', 'take', 'time', 'ur']</td>\n      <td>['model', 'love', 'take', 'time', 'ur']</td>\n    </tr>\n    <tr>\n      <th>5</th>\n      <td>0.0</td>\n      <td>factsguide: society now    #motivation</td>\n      <td>factsguide society now motivation</td>\n      <td>['factsguide', 'society', 'now', 'motivation']</td>\n      <td>['factsguide', 'society', 'motivation']</td>\n      <td>['factsguide', 'society', 'motivation']</td>\n    </tr>\n  </tbody>\n</table>\n</div>"
     },
     "execution_count": 4,
     "metadata": {},
     "output_type": "execute_result"
    }
   ],
   "source": [
    "df = pd.read_csv('tweets.csv', index_col='id')\n",
    "df.head()"
   ],
   "metadata": {
    "collapsed": false,
    "pycharm": {
     "name": "#%%\n"
    }
   }
  },
  {
   "cell_type": "markdown",
   "source": [
    "#### 1. Создайте мешок слов"
   ],
   "metadata": {
    "collapsed": false,
    "pycharm": {
     "name": "#%% md\n"
    }
   }
  },
  {
   "cell_type": "code",
   "execution_count": null,
   "outputs": [],
   "source": [
    "df['bag_']\n"
   ],
   "metadata": {
    "collapsed": false,
    "pycharm": {
     "name": "#%%\n"
    }
   }
  }
 ],
 "metadata": {
  "kernelspec": {
   "display_name": "Python 3",
   "language": "python",
   "name": "python3"
  },
  "language_info": {
   "codemirror_mode": {
    "name": "ipython",
    "version": 2
   },
   "file_extension": ".py",
   "mimetype": "text/x-python",
   "name": "python",
   "nbconvert_exporter": "python",
   "pygments_lexer": "ipython2",
   "version": "2.7.6"
  }
 },
 "nbformat": 4,
 "nbformat_minor": 0
}